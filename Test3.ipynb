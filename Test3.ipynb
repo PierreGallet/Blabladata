{
 "cells": [
  {
   "cell_type": "code",
   "execution_count": 1,
   "metadata": {
    "collapsed": true
   },
   "outputs": [],
   "source": [
    "from __future__ import print_function\n",
    "from gensim.models.word2vec import Word2Vec, LineSentence\n",
    "from gensim.models import word2vec\n",
    "import logging\n",
    "import numpy as np\n",
    "from sklearn.cross_validation import train_test_split, StratifiedKFold\n",
    "from gensim.models.word2vec import Word2Vec, LineSentence\n",
    "import pickle, json, os\n",
    "from gensim import corpora, models\n",
    "from collections import defaultdict\n",
    "import operator\n",
    "import logging\n",
    "from sklearn.feature_extraction.text import TfidfVectorizer\n",
    "from scipy.sparse import csr_matrix"
   ]
  },
  {
   "cell_type": "code",
   "execution_count": 9,
   "metadata": {
    "collapsed": false
   },
   "outputs": [
    {
     "name": "stdout",
     "output_type": "stream",
     "text": [
      "Hello\n",
      "\n",
      "Bonjour Bonjour hello\n",
      "\n",
      "Je suis Bonjour\n"
     ]
    }
   ],
   "source": [
    "path_sentences='test_preprocessing.txt'\n",
    "\n",
    "with open(path_sentences, 'r') as f:\n",
    "    lines = f.readlines()\n",
    "    for line in lines:\n",
    "        print (line)\n",
    "    "
   ]
  },
  {
   "cell_type": "code",
   "execution_count": 13,
   "metadata": {
    "collapsed": false
   },
   "outputs": [
    {
     "data": {
      "text/plain": [
       "TfidfVectorizer(analyzer='word', binary=False, decode_error='strict',\n",
       "        dtype=<class 'numpy.int64'>, encoding='utf8', input='content',\n",
       "        lowercase=True, max_df=1.0, max_features=None, min_df=1,\n",
       "        ngram_range=(1, 1), norm='l2', preprocessor=None, smooth_idf=True,\n",
       "        stop_words=None, strip_accents=None, sublinear_tf=False,\n",
       "        token_pattern='(?u)\\\\b\\\\w\\\\w+\\\\b', tokenizer=None, use_idf=True,\n",
       "        vocabulary=None)"
      ]
     },
     "execution_count": 13,
     "metadata": {},
     "output_type": "execute_result"
    }
   ],
   "source": [
    "\n",
    "def myCorpus():\n",
    "    for line in open(path_sentences):\n",
    "        yield line\n",
    "corpus = myCorpus()\n",
    "\n",
    "vectorizer = TfidfVectorizer(encoding='utf8')\n",
    "vectorizer.fit(corpus)\n"
   ]
  },
  {
   "cell_type": "code",
   "execution_count": 14,
   "metadata": {
    "collapsed": false
   },
   "outputs": [],
   "source": [
    "def myCorpus():\n",
    "    for line in open(path_sentences):\n",
    "        yield line\n",
    "corpus = myCorpus()\n",
    "\n",
    "sentences = vectorizer.transform(corpus)\n",
    "sentences = sentences.todense()\n",
    "sentences = np.asarray(sentences)"
   ]
  },
  {
   "cell_type": "code",
   "execution_count": 15,
   "metadata": {
    "collapsed": false
   },
   "outputs": [
    {
     "data": {
      "text/plain": [
       "array([[ 0.        ,  1.        ,  0.        ,  0.        ],\n",
       "       [ 0.93219169,  0.361965  ,  0.        ,  0.        ],\n",
       "       [ 0.44451431,  0.34520502,  0.5844829 ,  0.5844829 ]])"
      ]
     },
     "execution_count": 15,
     "metadata": {},
     "output_type": "execute_result"
    }
   ],
   "source": [
    "sentences\n",
    "    "
   ]
  },
  {
   "cell_type": "code",
   "execution_count": 24,
   "metadata": {
    "collapsed": false
   },
   "outputs": [
    {
     "data": {
      "text/plain": [
       "0.99999999999999978"
      ]
     },
     "execution_count": 24,
     "metadata": {},
     "output_type": "execute_result"
    }
   ],
   "source": [
    "np.sum(np.square(sentences[2,]))"
   ]
  },
  {
   "cell_type": "code",
   "execution_count": null,
   "metadata": {
    "collapsed": true
   },
   "outputs": [],
   "source": []
  }
 ],
 "metadata": {
  "kernelspec": {
   "display_name": "Python 3",
   "language": "python",
   "name": "python3"
  },
  "language_info": {
   "codemirror_mode": {
    "name": "ipython",
    "version": 3
   },
   "file_extension": ".py",
   "mimetype": "text/x-python",
   "name": "python",
   "nbconvert_exporter": "python",
   "pygments_lexer": "ipython3",
   "version": "3.5.2"
  }
 },
 "nbformat": 4,
 "nbformat_minor": 0
}
